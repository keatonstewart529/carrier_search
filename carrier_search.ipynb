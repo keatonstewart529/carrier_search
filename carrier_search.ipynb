{
 "cells": [
  {
   "cell_type": "code",
   "execution_count": 1,
   "metadata": {},
   "outputs": [],
   "source": [
    "import pandas as pd"
   ]
  },
  {
   "cell_type": "code",
   "execution_count": 2,
   "metadata": {},
   "outputs": [],
   "source": [
    "lol = pd.read_csv('fmcsa_data.txt', sep = ',', encoding='latin1')"
   ]
  },
  {
   "cell_type": "code",
   "execution_count": 42,
   "metadata": {},
   "outputs": [
    {
     "data": {
      "text/html": [
       "<div>\n",
       "<style scoped>\n",
       "    .dataframe tbody tr th:only-of-type {\n",
       "        vertical-align: middle;\n",
       "    }\n",
       "\n",
       "    .dataframe tbody tr th {\n",
       "        vertical-align: top;\n",
       "    }\n",
       "\n",
       "    .dataframe thead th {\n",
       "        text-align: right;\n",
       "    }\n",
       "</style>\n",
       "<table border=\"1\" class=\"dataframe\">\n",
       "  <thead>\n",
       "    <tr style=\"text-align: right;\">\n",
       "      <th></th>\n",
       "      <th>dot</th>\n",
       "      <th>name</th>\n",
       "      <th>dba</th>\n",
       "      <th>type</th>\n",
       "      <th>hm</th>\n",
       "      <th>pc</th>\n",
       "      <th>act_st</th>\n",
       "      <th>act_cit</th>\n",
       "      <th>act_sta</th>\n",
       "      <th>act_zip</th>\n",
       "      <th>...</th>\n",
       "      <th>phone</th>\n",
       "      <th>fax</th>\n",
       "      <th>email</th>\n",
       "      <th>mcs150_dt</th>\n",
       "      <th>mcs150_ml</th>\n",
       "      <th>mcs150_yr</th>\n",
       "      <th>ad_dt</th>\n",
       "      <th>st</th>\n",
       "      <th>units</th>\n",
       "      <th>drivers</th>\n",
       "    </tr>\n",
       "  </thead>\n",
       "  <tbody>\n",
       "    <tr>\n",
       "      <th>0</th>\n",
       "      <td>1</td>\n",
       "      <td>FEDERAL MOTOR CARRIER SAFETY ADMINISTRATION</td>\n",
       "      <td>FMCSA TECHNOLOGY DIVISION</td>\n",
       "      <td>A</td>\n",
       "      <td>N</td>\n",
       "      <td>N</td>\n",
       "      <td>NaN</td>\n",
       "      <td>NaN</td>\n",
       "      <td>NaN</td>\n",
       "      <td>NaN</td>\n",
       "      <td>...</td>\n",
       "      <td>NaN</td>\n",
       "      <td>NaN</td>\n",
       "      <td>NaN</td>\n",
       "      <td>16-DEC-19</td>\n",
       "      <td>3000.0</td>\n",
       "      <td>2019.0</td>\n",
       "      <td>01-JUN-74</td>\n",
       "      <td>DC</td>\n",
       "      <td>4.0</td>\n",
       "      <td>4.0</td>\n",
       "    </tr>\n",
       "    <tr>\n",
       "      <th>1</th>\n",
       "      <td>10000</td>\n",
       "      <td>POWELL DISTRIBUTING CO INC</td>\n",
       "      <td>NaN</td>\n",
       "      <td>A</td>\n",
       "      <td>N</td>\n",
       "      <td>N</td>\n",
       "      <td>NaN</td>\n",
       "      <td>NaN</td>\n",
       "      <td>NaN</td>\n",
       "      <td>NaN</td>\n",
       "      <td>...</td>\n",
       "      <td>NaN</td>\n",
       "      <td>NaN</td>\n",
       "      <td>NaN</td>\n",
       "      <td>25-JUN-20</td>\n",
       "      <td>10000.0</td>\n",
       "      <td>2019.0</td>\n",
       "      <td>01-JUN-74</td>\n",
       "      <td>OR</td>\n",
       "      <td>1.0</td>\n",
       "      <td>1.0</td>\n",
       "    </tr>\n",
       "    <tr>\n",
       "      <th>2</th>\n",
       "      <td>1000000</td>\n",
       "      <td>JAMES EARL KILLINGSWORTH JR</td>\n",
       "      <td>JAMES KILLINGSWORTH TRUCKING</td>\n",
       "      <td>A</td>\n",
       "      <td>N</td>\n",
       "      <td>N</td>\n",
       "      <td>15 GASLINE ROAD</td>\n",
       "      <td>PHENIX CITY</td>\n",
       "      <td>AL</td>\n",
       "      <td>36870</td>\n",
       "      <td>...</td>\n",
       "      <td>(706) 325-1816</td>\n",
       "      <td>NaN</td>\n",
       "      <td>JIMBOSPLICE2469@YAHOO.COM</td>\n",
       "      <td>12-OCT-20</td>\n",
       "      <td>1.0</td>\n",
       "      <td>2020.0</td>\n",
       "      <td>23-JAN-02</td>\n",
       "      <td>AL</td>\n",
       "      <td>1.0</td>\n",
       "      <td>1.0</td>\n",
       "    </tr>\n",
       "    <tr>\n",
       "      <th>3</th>\n",
       "      <td>1000002</td>\n",
       "      <td>NEW JERSEY BOOM &amp; ERECTORS INC</td>\n",
       "      <td>NaN</td>\n",
       "      <td>A</td>\n",
       "      <td>N</td>\n",
       "      <td>N</td>\n",
       "      <td>NaN</td>\n",
       "      <td>NaN</td>\n",
       "      <td>NaN</td>\n",
       "      <td>NaN</td>\n",
       "      <td>...</td>\n",
       "      <td>NaN</td>\n",
       "      <td>NaN</td>\n",
       "      <td>NaN</td>\n",
       "      <td>03-FEB-20</td>\n",
       "      <td>40000.0</td>\n",
       "      <td>2019.0</td>\n",
       "      <td>22-JAN-02</td>\n",
       "      <td>PA</td>\n",
       "      <td>2.0</td>\n",
       "      <td>1.0</td>\n",
       "    </tr>\n",
       "    <tr>\n",
       "      <th>4</th>\n",
       "      <td>1000004</td>\n",
       "      <td>RAY TRUCKING LLC</td>\n",
       "      <td>NaN</td>\n",
       "      <td>C</td>\n",
       "      <td>N</td>\n",
       "      <td>N</td>\n",
       "      <td>218 PEACHTREE ST</td>\n",
       "      <td>WARWICK</td>\n",
       "      <td>GA</td>\n",
       "      <td>31796</td>\n",
       "      <td>...</td>\n",
       "      <td>(229) 535-4140</td>\n",
       "      <td>NaN</td>\n",
       "      <td>MONTOYARAY@YMAIL.COM</td>\n",
       "      <td>01-JUN-20</td>\n",
       "      <td>25000.0</td>\n",
       "      <td>2019.0</td>\n",
       "      <td>22-JAN-02</td>\n",
       "      <td>GA</td>\n",
       "      <td>2.0</td>\n",
       "      <td>1.0</td>\n",
       "    </tr>\n",
       "  </tbody>\n",
       "</table>\n",
       "<p>5 rows × 26 columns</p>\n",
       "</div>"
      ],
      "text/plain": [
       "       dot                                         name  \\\n",
       "0        1  FEDERAL MOTOR CARRIER SAFETY ADMINISTRATION   \n",
       "1    10000                   POWELL DISTRIBUTING CO INC   \n",
       "2  1000000                  JAMES EARL KILLINGSWORTH JR   \n",
       "3  1000002               NEW JERSEY BOOM & ERECTORS INC   \n",
       "4  1000004                             RAY TRUCKING LLC   \n",
       "\n",
       "                            dba type hm pc            act_st      act_cit  \\\n",
       "0     FMCSA TECHNOLOGY DIVISION    A  N  N               NaN          NaN   \n",
       "1                           NaN    A  N  N               NaN          NaN   \n",
       "2  JAMES KILLINGSWORTH TRUCKING    A  N  N   15 GASLINE ROAD  PHENIX CITY   \n",
       "3                           NaN    A  N  N               NaN          NaN   \n",
       "4                           NaN    C  N  N  218 PEACHTREE ST      WARWICK   \n",
       "\n",
       "  act_sta act_zip  ...           phone  fax                      email  \\\n",
       "0     NaN     NaN  ...             NaN  NaN                        NaN   \n",
       "1     NaN     NaN  ...             NaN  NaN                        NaN   \n",
       "2      AL   36870  ...  (706) 325-1816  NaN  JIMBOSPLICE2469@YAHOO.COM   \n",
       "3     NaN     NaN  ...             NaN  NaN                        NaN   \n",
       "4      GA   31796  ...  (229) 535-4140  NaN       MONTOYARAY@YMAIL.COM   \n",
       "\n",
       "   mcs150_dt mcs150_ml mcs150_yr      ad_dt  st units drivers  \n",
       "0  16-DEC-19    3000.0    2019.0  01-JUN-74  DC   4.0     4.0  \n",
       "1  25-JUN-20   10000.0    2019.0  01-JUN-74  OR   1.0     1.0  \n",
       "2  12-OCT-20       1.0    2020.0  23-JAN-02  AL   1.0     1.0  \n",
       "3  03-FEB-20   40000.0    2019.0  22-JAN-02  PA   2.0     1.0  \n",
       "4  01-JUN-20   25000.0    2019.0  22-JAN-02  GA   2.0     1.0  \n",
       "\n",
       "[5 rows x 26 columns]"
      ]
     },
     "execution_count": 42,
     "metadata": {},
     "output_type": "execute_result"
    }
   ],
   "source": [
    "lol.head()"
   ]
  },
  {
   "cell_type": "code",
   "execution_count": 4,
   "metadata": {},
   "outputs": [
    {
     "data": {
      "text/plain": [
       "1746323"
      ]
     },
     "execution_count": 4,
     "metadata": {},
     "output_type": "execute_result"
    }
   ],
   "source": [
    "len(lol)"
   ]
  },
  {
   "cell_type": "code",
   "execution_count": 5,
   "metadata": {},
   "outputs": [],
   "source": [
    "lmao = lol.dropna()"
   ]
  },
  {
   "cell_type": "code",
   "execution_count": 6,
   "metadata": {},
   "outputs": [
    {
     "data": {
      "text/plain": [
       "41782"
      ]
     },
     "execution_count": 6,
     "metadata": {},
     "output_type": "execute_result"
    }
   ],
   "source": [
    "len(lmao)"
   ]
  },
  {
   "cell_type": "code",
   "execution_count": 14,
   "metadata": {},
   "outputs": [],
   "source": [
    "lol.columns = ['dot', 'name', 'dba', 'type', 'hm',\n",
    "       'pc', 'act_st', 'act_cit', 'act_sta', 'act_zip',\n",
    "       'act_cnt', 'ml_st', 'ml_cit', 'ml_sta',\n",
    "       'ml_zip', 'ml_cnt', 'phone', 'fax', 'email',\n",
    "       'mcs150_dt', 'mcs150_ml', 'mcs150_yr', 'ad_dt',\n",
    "       'st', 'units', 'drivers']"
   ]
  },
  {
   "cell_type": "code",
   "execution_count": 37,
   "metadata": {},
   "outputs": [],
   "source": [
    "lolME = lol[lol['st'] == 'ME']\n",
    "lolMD = lol[lol['st'] == 'MD']"
   ]
  },
  {
   "cell_type": "code",
   "execution_count": 41,
   "metadata": {},
   "outputs": [
    {
     "data": {
      "text/plain": [
       "45946"
      ]
     },
     "execution_count": 41,
     "metadata": {},
     "output_type": "execute_result"
    }
   ],
   "source": [
    "lolAg = lolME.append(lolMD)\n",
    "len(lolAg)"
   ]
  },
  {
   "cell_type": "code",
   "execution_count": 52,
   "metadata": {},
   "outputs": [],
   "source": [
    "AgCo = lolAg[lolAg['units'] > 50]\n",
    "AgCo2 = lolAg.dropna(subset = ['email'])"
   ]
  },
  {
   "cell_type": "code",
   "execution_count": 53,
   "metadata": {},
   "outputs": [
    {
     "data": {
      "text/plain": [
       "12012"
      ]
     },
     "execution_count": 53,
     "metadata": {},
     "output_type": "execute_result"
    }
   ],
   "source": [
    "len(AgCo2)"
   ]
  },
  {
   "cell_type": "code",
   "execution_count": 54,
   "metadata": {},
   "outputs": [
    {
     "data": {
      "text/html": [
       "<div>\n",
       "<style scoped>\n",
       "    .dataframe tbody tr th:only-of-type {\n",
       "        vertical-align: middle;\n",
       "    }\n",
       "\n",
       "    .dataframe tbody tr th {\n",
       "        vertical-align: top;\n",
       "    }\n",
       "\n",
       "    .dataframe thead th {\n",
       "        text-align: right;\n",
       "    }\n",
       "</style>\n",
       "<table border=\"1\" class=\"dataframe\">\n",
       "  <thead>\n",
       "    <tr style=\"text-align: right;\">\n",
       "      <th></th>\n",
       "      <th>dot</th>\n",
       "      <th>name</th>\n",
       "      <th>dba</th>\n",
       "      <th>type</th>\n",
       "      <th>hm</th>\n",
       "      <th>pc</th>\n",
       "      <th>act_st</th>\n",
       "      <th>act_cit</th>\n",
       "      <th>act_sta</th>\n",
       "      <th>act_zip</th>\n",
       "      <th>...</th>\n",
       "      <th>phone</th>\n",
       "      <th>fax</th>\n",
       "      <th>email</th>\n",
       "      <th>mcs150_dt</th>\n",
       "      <th>mcs150_ml</th>\n",
       "      <th>mcs150_yr</th>\n",
       "      <th>ad_dt</th>\n",
       "      <th>st</th>\n",
       "      <th>units</th>\n",
       "      <th>drivers</th>\n",
       "    </tr>\n",
       "  </thead>\n",
       "  <tbody>\n",
       "    <tr>\n",
       "      <th>231</th>\n",
       "      <td>1000529</td>\n",
       "      <td>ATLANTIC TILTLOAD LIMITED</td>\n",
       "      <td>NaN</td>\n",
       "      <td>A</td>\n",
       "      <td>N</td>\n",
       "      <td>N</td>\n",
       "      <td>15 NOTTING COURT</td>\n",
       "      <td>DARTMOUTH</td>\n",
       "      <td>NS</td>\n",
       "      <td>B3B 1N2</td>\n",
       "      <td>...</td>\n",
       "      <td>(902) 468-0908</td>\n",
       "      <td>NaN</td>\n",
       "      <td>FINANCE@ATLANTICTILTLOAD.COM</td>\n",
       "      <td>01-APR-20</td>\n",
       "      <td>36770.0</td>\n",
       "      <td>2018.0</td>\n",
       "      <td>24-JAN-02</td>\n",
       "      <td>ME</td>\n",
       "      <td>6.0</td>\n",
       "      <td>12.0</td>\n",
       "    </tr>\n",
       "    <tr>\n",
       "      <th>485</th>\n",
       "      <td>1001066</td>\n",
       "      <td>ELMER L KNOX JR</td>\n",
       "      <td>JR KNOX TRUCKING</td>\n",
       "      <td>C</td>\n",
       "      <td>N</td>\n",
       "      <td>N</td>\n",
       "      <td>94 BEAN RD</td>\n",
       "      <td>JAY</td>\n",
       "      <td>ME</td>\n",
       "      <td>04262</td>\n",
       "      <td>...</td>\n",
       "      <td>(207) 491-3449</td>\n",
       "      <td>NaN</td>\n",
       "      <td>JR.KNOX@YAHOO.COM</td>\n",
       "      <td>09-JUN-20</td>\n",
       "      <td>1.0</td>\n",
       "      <td>2019.0</td>\n",
       "      <td>28-JAN-02</td>\n",
       "      <td>ME</td>\n",
       "      <td>1.0</td>\n",
       "      <td>1.0</td>\n",
       "    </tr>\n",
       "    <tr>\n",
       "      <th>2540</th>\n",
       "      <td>1005581</td>\n",
       "      <td>WS TRANSPORT &amp; LOGISTICS INC</td>\n",
       "      <td>NaN</td>\n",
       "      <td>A</td>\n",
       "      <td>N</td>\n",
       "      <td>N</td>\n",
       "      <td>445 DIXIE RD</td>\n",
       "      <td>TRESCOTT TWP</td>\n",
       "      <td>ME</td>\n",
       "      <td>04652</td>\n",
       "      <td>...</td>\n",
       "      <td>(207) 733-4441</td>\n",
       "      <td>(207) 733-4446</td>\n",
       "      <td>WS LOGISTICSINC@GMAIL.COM</td>\n",
       "      <td>07-JUN-20</td>\n",
       "      <td>75000.0</td>\n",
       "      <td>2019.0</td>\n",
       "      <td>20-FEB-02</td>\n",
       "      <td>ME</td>\n",
       "      <td>2.0</td>\n",
       "      <td>2.0</td>\n",
       "    </tr>\n",
       "    <tr>\n",
       "      <th>2742</th>\n",
       "      <td>1006103</td>\n",
       "      <td>KEVIN W CORMIER LTD</td>\n",
       "      <td>NaN</td>\n",
       "      <td>A</td>\n",
       "      <td>N</td>\n",
       "      <td>N</td>\n",
       "      <td>7492 ROUTE 3 BALLIE</td>\n",
       "      <td>ST STEPHENS</td>\n",
       "      <td>NB</td>\n",
       "      <td>E5A 1H2</td>\n",
       "      <td>...</td>\n",
       "      <td>(506) 466-3470</td>\n",
       "      <td>(506) 466-0919</td>\n",
       "      <td>KKMAETAK@GMAIL.COM</td>\n",
       "      <td>23-MAR-20</td>\n",
       "      <td>110000.0</td>\n",
       "      <td>2015.0</td>\n",
       "      <td>21-FEB-02</td>\n",
       "      <td>ME</td>\n",
       "      <td>3.0</td>\n",
       "      <td>4.0</td>\n",
       "    </tr>\n",
       "    <tr>\n",
       "      <th>2759</th>\n",
       "      <td>1006143</td>\n",
       "      <td>R K RUSSELL TRANSPORTATION LTD</td>\n",
       "      <td>NaN</td>\n",
       "      <td>A</td>\n",
       "      <td>N</td>\n",
       "      <td>N</td>\n",
       "      <td>3787 SCOTSBURN ROAD HWY 256</td>\n",
       "      <td>SCOTSBURN</td>\n",
       "      <td>NS</td>\n",
       "      <td>B0K 1R0</td>\n",
       "      <td>...</td>\n",
       "      <td>(902) 396-6558</td>\n",
       "      <td>(902) 485-4596</td>\n",
       "      <td>RKRUSSELL@BELLALIANT.NET</td>\n",
       "      <td>25-FEB-20</td>\n",
       "      <td>673997.0</td>\n",
       "      <td>2017.0</td>\n",
       "      <td>21-FEB-02</td>\n",
       "      <td>ME</td>\n",
       "      <td>5.0</td>\n",
       "      <td>5.0</td>\n",
       "    </tr>\n",
       "  </tbody>\n",
       "</table>\n",
       "<p>5 rows × 26 columns</p>\n",
       "</div>"
      ],
      "text/plain": [
       "          dot                            name               dba type hm pc  \\\n",
       "231   1000529       ATLANTIC TILTLOAD LIMITED               NaN    A  N  N   \n",
       "485   1001066                 ELMER L KNOX JR  JR KNOX TRUCKING    C  N  N   \n",
       "2540  1005581    WS TRANSPORT & LOGISTICS INC               NaN    A  N  N   \n",
       "2742  1006103             KEVIN W CORMIER LTD               NaN    A  N  N   \n",
       "2759  1006143  R K RUSSELL TRANSPORTATION LTD               NaN    A  N  N   \n",
       "\n",
       "                           act_st       act_cit act_sta  act_zip  ...  \\\n",
       "231              15 NOTTING COURT     DARTMOUTH      NS  B3B 1N2  ...   \n",
       "485                    94 BEAN RD           JAY      ME    04262  ...   \n",
       "2540                 445 DIXIE RD  TRESCOTT TWP      ME    04652  ...   \n",
       "2742          7492 ROUTE 3 BALLIE   ST STEPHENS      NB  E5A 1H2  ...   \n",
       "2759  3787 SCOTSBURN ROAD HWY 256     SCOTSBURN      NS  B0K 1R0  ...   \n",
       "\n",
       "               phone             fax                         email  mcs150_dt  \\\n",
       "231   (902) 468-0908             NaN  FINANCE@ATLANTICTILTLOAD.COM  01-APR-20   \n",
       "485   (207) 491-3449             NaN             JR.KNOX@YAHOO.COM  09-JUN-20   \n",
       "2540  (207) 733-4441  (207) 733-4446     WS LOGISTICSINC@GMAIL.COM  07-JUN-20   \n",
       "2742  (506) 466-3470  (506) 466-0919            KKMAETAK@GMAIL.COM  23-MAR-20   \n",
       "2759  (902) 396-6558  (902) 485-4596      RKRUSSELL@BELLALIANT.NET  25-FEB-20   \n",
       "\n",
       "     mcs150_ml mcs150_yr      ad_dt  st units drivers  \n",
       "231    36770.0    2018.0  24-JAN-02  ME   6.0    12.0  \n",
       "485        1.0    2019.0  28-JAN-02  ME   1.0     1.0  \n",
       "2540   75000.0    2019.0  20-FEB-02  ME   2.0     2.0  \n",
       "2742  110000.0    2015.0  21-FEB-02  ME   3.0     4.0  \n",
       "2759  673997.0    2017.0  21-FEB-02  ME   5.0     5.0  \n",
       "\n",
       "[5 rows x 26 columns]"
      ]
     },
     "execution_count": 54,
     "metadata": {},
     "output_type": "execute_result"
    }
   ],
   "source": [
    "AgCo2.head()"
   ]
  },
  {
   "cell_type": "code",
   "execution_count": 55,
   "metadata": {},
   "outputs": [],
   "source": [
    "AgCo3 = AgCo2[AgCo2['units'] > 10]"
   ]
  },
  {
   "cell_type": "code",
   "execution_count": 56,
   "metadata": {},
   "outputs": [
    {
     "data": {
      "text/plain": [
       "536"
      ]
     },
     "execution_count": 56,
     "metadata": {},
     "output_type": "execute_result"
    }
   ],
   "source": [
    "len(AgCo3)"
   ]
  },
  {
   "cell_type": "code",
   "execution_count": 57,
   "metadata": {},
   "outputs": [
    {
     "data": {
      "text/html": [
       "<div>\n",
       "<style scoped>\n",
       "    .dataframe tbody tr th:only-of-type {\n",
       "        vertical-align: middle;\n",
       "    }\n",
       "\n",
       "    .dataframe tbody tr th {\n",
       "        vertical-align: top;\n",
       "    }\n",
       "\n",
       "    .dataframe thead th {\n",
       "        text-align: right;\n",
       "    }\n",
       "</style>\n",
       "<table border=\"1\" class=\"dataframe\">\n",
       "  <thead>\n",
       "    <tr style=\"text-align: right;\">\n",
       "      <th></th>\n",
       "      <th>dot</th>\n",
       "      <th>name</th>\n",
       "      <th>dba</th>\n",
       "      <th>type</th>\n",
       "      <th>hm</th>\n",
       "      <th>pc</th>\n",
       "      <th>act_st</th>\n",
       "      <th>act_cit</th>\n",
       "      <th>act_sta</th>\n",
       "      <th>act_zip</th>\n",
       "      <th>...</th>\n",
       "      <th>phone</th>\n",
       "      <th>fax</th>\n",
       "      <th>email</th>\n",
       "      <th>mcs150_dt</th>\n",
       "      <th>mcs150_ml</th>\n",
       "      <th>mcs150_yr</th>\n",
       "      <th>ad_dt</th>\n",
       "      <th>st</th>\n",
       "      <th>units</th>\n",
       "      <th>drivers</th>\n",
       "    </tr>\n",
       "  </thead>\n",
       "  <tbody>\n",
       "    <tr>\n",
       "      <th>11016</th>\n",
       "      <td>1026441</td>\n",
       "      <td>DYSART'S SERVICE</td>\n",
       "      <td>NaN</td>\n",
       "      <td>A</td>\n",
       "      <td>Y</td>\n",
       "      <td>N</td>\n",
       "      <td>530 COLDBROOK RD</td>\n",
       "      <td>HERMON</td>\n",
       "      <td>ME</td>\n",
       "      <td>04401</td>\n",
       "      <td>...</td>\n",
       "      <td>(207) 942-4878</td>\n",
       "      <td>(207) 947-3559</td>\n",
       "      <td>TIMM@DYSARTS.COM</td>\n",
       "      <td>22-JUN-20</td>\n",
       "      <td>150000.0</td>\n",
       "      <td>2019.0</td>\n",
       "      <td>07-MAY-02</td>\n",
       "      <td>ME</td>\n",
       "      <td>25.0</td>\n",
       "      <td>18.0</td>\n",
       "    </tr>\n",
       "    <tr>\n",
       "      <th>13781</th>\n",
       "      <td>103359</td>\n",
       "      <td>CONRADS TRANSPORT LIMITED</td>\n",
       "      <td>NaN</td>\n",
       "      <td>A</td>\n",
       "      <td>N</td>\n",
       "      <td>N</td>\n",
       "      <td>2 CONO DR</td>\n",
       "      <td>DARTMOUTH</td>\n",
       "      <td>NS</td>\n",
       "      <td>B2W 3Y2</td>\n",
       "      <td>...</td>\n",
       "      <td>(902) 434-5040</td>\n",
       "      <td>(902) 434-1737</td>\n",
       "      <td>CONRADTRANSPORT@NS.ALIANTZINC.CA</td>\n",
       "      <td>05-SEP-19</td>\n",
       "      <td>191000.0</td>\n",
       "      <td>2018.0</td>\n",
       "      <td>01-JUN-74</td>\n",
       "      <td>ME</td>\n",
       "      <td>30.0</td>\n",
       "      <td>29.0</td>\n",
       "    </tr>\n",
       "    <tr>\n",
       "      <th>78627</th>\n",
       "      <td>1162153</td>\n",
       "      <td>CASCO BAY TRANSPORTATION LLC</td>\n",
       "      <td>NaN</td>\n",
       "      <td>A</td>\n",
       "      <td>N</td>\n",
       "      <td>N</td>\n",
       "      <td>102 INDUSTRIAL PARK RD</td>\n",
       "      <td>SACO</td>\n",
       "      <td>ME</td>\n",
       "      <td>04072</td>\n",
       "      <td>...</td>\n",
       "      <td>(207) 710-2323</td>\n",
       "      <td>(207) 710-2324</td>\n",
       "      <td>RICK@CASCOBAYTRANSPORTATION.COM</td>\n",
       "      <td>19-DEC-19</td>\n",
       "      <td>371510.0</td>\n",
       "      <td>2018.0</td>\n",
       "      <td>21-AUG-03</td>\n",
       "      <td>ME</td>\n",
       "      <td>12.0</td>\n",
       "      <td>10.0</td>\n",
       "    </tr>\n",
       "    <tr>\n",
       "      <th>86582</th>\n",
       "      <td>1181967</td>\n",
       "      <td>GTL TRANSPORTATION INC</td>\n",
       "      <td>NaN</td>\n",
       "      <td>A</td>\n",
       "      <td>N</td>\n",
       "      <td>N</td>\n",
       "      <td>115 TRIDER CR</td>\n",
       "      <td>DARTMOUTH</td>\n",
       "      <td>NS</td>\n",
       "      <td>B3B 1V6</td>\n",
       "      <td>...</td>\n",
       "      <td>(902) 468-3100</td>\n",
       "      <td>(902) 468-6317</td>\n",
       "      <td>TRACI@GTLTRANSPORTATION.COM</td>\n",
       "      <td>09-JUL-20</td>\n",
       "      <td>9182827.0</td>\n",
       "      <td>2019.0</td>\n",
       "      <td>27-OCT-03</td>\n",
       "      <td>ME</td>\n",
       "      <td>66.0</td>\n",
       "      <td>66.0</td>\n",
       "    </tr>\n",
       "    <tr>\n",
       "      <th>88824</th>\n",
       "      <td>1186893</td>\n",
       "      <td>K S D ATLANTIC TRANSPORT SYSTEMS INC</td>\n",
       "      <td>ATLANTIC TRANSPORT SYSTEMS</td>\n",
       "      <td>A</td>\n",
       "      <td>N</td>\n",
       "      <td>N</td>\n",
       "      <td>84-G WARREN AVENUE</td>\n",
       "      <td>WESTBROOK</td>\n",
       "      <td>ME</td>\n",
       "      <td>04092</td>\n",
       "      <td>...</td>\n",
       "      <td>(207) 591-4150</td>\n",
       "      <td>(207) 591-4154</td>\n",
       "      <td>TOMD@ATLANTICTRANSPORTSYSTEMS.COM</td>\n",
       "      <td>29-JUL-20</td>\n",
       "      <td>1174616.0</td>\n",
       "      <td>2018.0</td>\n",
       "      <td>14-NOV-03</td>\n",
       "      <td>ME</td>\n",
       "      <td>31.0</td>\n",
       "      <td>29.0</td>\n",
       "    </tr>\n",
       "  </tbody>\n",
       "</table>\n",
       "<p>5 rows × 26 columns</p>\n",
       "</div>"
      ],
      "text/plain": [
       "           dot                                  name  \\\n",
       "11016  1026441                      DYSART'S SERVICE   \n",
       "13781   103359             CONRADS TRANSPORT LIMITED   \n",
       "78627  1162153          CASCO BAY TRANSPORTATION LLC   \n",
       "86582  1181967                GTL TRANSPORTATION INC   \n",
       "88824  1186893  K S D ATLANTIC TRANSPORT SYSTEMS INC   \n",
       "\n",
       "                              dba type hm pc                  act_st  \\\n",
       "11016                         NaN    A  Y  N        530 COLDBROOK RD   \n",
       "13781                         NaN    A  N  N               2 CONO DR   \n",
       "78627                         NaN    A  N  N  102 INDUSTRIAL PARK RD   \n",
       "86582                         NaN    A  N  N           115 TRIDER CR   \n",
       "88824  ATLANTIC TRANSPORT SYSTEMS    A  N  N      84-G WARREN AVENUE   \n",
       "\n",
       "         act_cit act_sta  act_zip  ...           phone             fax  \\\n",
       "11016     HERMON      ME    04401  ...  (207) 942-4878  (207) 947-3559   \n",
       "13781  DARTMOUTH      NS  B2W 3Y2  ...  (902) 434-5040  (902) 434-1737   \n",
       "78627       SACO      ME    04072  ...  (207) 710-2323  (207) 710-2324   \n",
       "86582  DARTMOUTH      NS  B3B 1V6  ...  (902) 468-3100  (902) 468-6317   \n",
       "88824  WESTBROOK      ME    04092  ...  (207) 591-4150  (207) 591-4154   \n",
       "\n",
       "                                   email  mcs150_dt  mcs150_ml mcs150_yr  \\\n",
       "11016                   TIMM@DYSARTS.COM  22-JUN-20   150000.0    2019.0   \n",
       "13781   CONRADTRANSPORT@NS.ALIANTZINC.CA  05-SEP-19   191000.0    2018.0   \n",
       "78627    RICK@CASCOBAYTRANSPORTATION.COM  19-DEC-19   371510.0    2018.0   \n",
       "86582        TRACI@GTLTRANSPORTATION.COM  09-JUL-20  9182827.0    2019.0   \n",
       "88824  TOMD@ATLANTICTRANSPORTSYSTEMS.COM  29-JUL-20  1174616.0    2018.0   \n",
       "\n",
       "           ad_dt  st units drivers  \n",
       "11016  07-MAY-02  ME  25.0    18.0  \n",
       "13781  01-JUN-74  ME  30.0    29.0  \n",
       "78627  21-AUG-03  ME  12.0    10.0  \n",
       "86582  27-OCT-03  ME  66.0    66.0  \n",
       "88824  14-NOV-03  ME  31.0    29.0  \n",
       "\n",
       "[5 rows x 26 columns]"
      ]
     },
     "execution_count": 57,
     "metadata": {},
     "output_type": "execute_result"
    }
   ],
   "source": [
    "AgCo3.head()"
   ]
  },
  {
   "cell_type": "code",
   "execution_count": 82,
   "metadata": {},
   "outputs": [],
   "source": [
    "Ga = lol[lol['st'] == 'GA']"
   ]
  },
  {
   "cell_type": "code",
   "execution_count": 83,
   "metadata": {},
   "outputs": [
    {
     "data": {
      "text/plain": [
       "81593"
      ]
     },
     "execution_count": 83,
     "metadata": {},
     "output_type": "execute_result"
    }
   ],
   "source": [
    "len(Ga)"
   ]
  },
  {
   "cell_type": "code",
   "execution_count": 84,
   "metadata": {},
   "outputs": [],
   "source": [
    "Ga2 = Ga[Ga['units'] > 80]\n",
    "Ga3 = Ga2[Ga2['units'] < 150]"
   ]
  },
  {
   "cell_type": "code",
   "execution_count": 85,
   "metadata": {},
   "outputs": [
    {
     "data": {
      "text/plain": [
       "109"
      ]
     },
     "execution_count": 85,
     "metadata": {},
     "output_type": "execute_result"
    }
   ],
   "source": [
    "len(Ga3)"
   ]
  },
  {
   "cell_type": "code",
   "execution_count": 95,
   "metadata": {},
   "outputs": [
    {
     "data": {
      "text/plain": [
       "81592"
      ]
     },
     "execution_count": 95,
     "metadata": {},
     "output_type": "execute_result"
    }
   ],
   "source": [
    "Gac = Ga.dropna(subset = ['name'])\n",
    "len(Gac)"
   ]
  },
  {
   "cell_type": "code",
   "execution_count": 99,
   "metadata": {},
   "outputs": [
    {
     "name": "stderr",
     "output_type": "stream",
     "text": [
      "C:\\Users\\keato\\anaconda\\Anaconda3\\lib\\site-packages\\ipykernel_launcher.py:1: SettingWithCopyWarning: \n",
      "A value is trying to be set on a copy of a slice from a DataFrame.\n",
      "Try using .loc[row_indexer,col_indexer] = value instead\n",
      "\n",
      "See the caveats in the documentation: https://pandas.pydata.org/pandas-docs/stable/user_guide/indexing.html#returning-a-view-versus-a-copy\n",
      "  \"\"\"Entry point for launching an IPython kernel.\n"
     ]
    }
   ],
   "source": [
    "Gac['name'] = Gac['name'].astype('string')"
   ]
  },
  {
   "cell_type": "code",
   "execution_count": 100,
   "metadata": {},
   "outputs": [
    {
     "data": {
      "text/plain": [
       "dot            int64\n",
       "name          string\n",
       "dba           object\n",
       "type          object\n",
       "hm            object\n",
       "pc            object\n",
       "act_st        object\n",
       "act_cit       object\n",
       "act_sta       object\n",
       "act_zip       object\n",
       "act_cnt       object\n",
       "ml_st         object\n",
       "ml_cit        object\n",
       "ml_sta        object\n",
       "ml_zip        object\n",
       "ml_cnt        object\n",
       "phone         object\n",
       "fax           object\n",
       "email         object\n",
       "mcs150_dt     object\n",
       "mcs150_ml    float64\n",
       "mcs150_yr    float64\n",
       "ad_dt         object\n",
       "st            object\n",
       "units        float64\n",
       "drivers      float64\n",
       "dtype: object"
      ]
     },
     "execution_count": 100,
     "metadata": {},
     "output_type": "execute_result"
    }
   ],
   "source": [
    "Gac.dtypes"
   ]
  },
  {
   "cell_type": "code",
   "execution_count": 107,
   "metadata": {},
   "outputs": [],
   "source": [
    "us = Gac.name.str.find('Trucking') == True]"
   ]
  },
  {
   "cell_type": "code",
   "execution_count": 108,
   "metadata": {},
   "outputs": [
    {
     "data": {
      "text/html": [
       "<div>\n",
       "<style scoped>\n",
       "    .dataframe tbody tr th:only-of-type {\n",
       "        vertical-align: middle;\n",
       "    }\n",
       "\n",
       "    .dataframe tbody tr th {\n",
       "        vertical-align: top;\n",
       "    }\n",
       "\n",
       "    .dataframe thead th {\n",
       "        text-align: right;\n",
       "    }\n",
       "</style>\n",
       "<table border=\"1\" class=\"dataframe\">\n",
       "  <thead>\n",
       "    <tr style=\"text-align: right;\">\n",
       "      <th></th>\n",
       "      <th>dot</th>\n",
       "      <th>name</th>\n",
       "      <th>dba</th>\n",
       "      <th>type</th>\n",
       "      <th>hm</th>\n",
       "      <th>pc</th>\n",
       "      <th>act_st</th>\n",
       "      <th>act_cit</th>\n",
       "      <th>act_sta</th>\n",
       "      <th>act_zip</th>\n",
       "      <th>...</th>\n",
       "      <th>phone</th>\n",
       "      <th>fax</th>\n",
       "      <th>email</th>\n",
       "      <th>mcs150_dt</th>\n",
       "      <th>mcs150_ml</th>\n",
       "      <th>mcs150_yr</th>\n",
       "      <th>ad_dt</th>\n",
       "      <th>st</th>\n",
       "      <th>units</th>\n",
       "      <th>drivers</th>\n",
       "    </tr>\n",
       "  </thead>\n",
       "  <tbody>\n",
       "  </tbody>\n",
       "</table>\n",
       "<p>0 rows × 26 columns</p>\n",
       "</div>"
      ],
      "text/plain": [
       "Empty DataFrame\n",
       "Columns: [dot, name, dba, type, hm, pc, act_st, act_cit, act_sta, act_zip, act_cnt, ml_st, ml_cit, ml_sta, ml_zip, ml_cnt, phone, fax, email, mcs150_dt, mcs150_ml, mcs150_yr, ad_dt, st, units, drivers]\n",
       "Index: []\n",
       "\n",
       "[0 rows x 26 columns]"
      ]
     },
     "execution_count": 108,
     "metadata": {},
     "output_type": "execute_result"
    }
   ],
   "source": [
    "us"
   ]
  },
  {
   "cell_type": "code",
   "execution_count": null,
   "metadata": {},
   "outputs": [],
   "source": []
  },
  {
   "cell_type": "code",
   "execution_count": 79,
   "metadata": {},
   "outputs": [],
   "source": []
  },
  {
   "cell_type": "code",
   "execution_count": null,
   "metadata": {},
   "outputs": [],
   "source": []
  },
  {
   "cell_type": "code",
   "execution_count": null,
   "metadata": {},
   "outputs": [],
   "source": []
  }
 ],
 "metadata": {
  "kernelspec": {
   "display_name": "Python 3",
   "language": "python",
   "name": "python3"
  },
  "language_info": {
   "codemirror_mode": {
    "name": "ipython",
    "version": 3
   },
   "file_extension": ".py",
   "mimetype": "text/x-python",
   "name": "python",
   "nbconvert_exporter": "python",
   "pygments_lexer": "ipython3",
   "version": "3.7.3"
  }
 },
 "nbformat": 4,
 "nbformat_minor": 4
}
